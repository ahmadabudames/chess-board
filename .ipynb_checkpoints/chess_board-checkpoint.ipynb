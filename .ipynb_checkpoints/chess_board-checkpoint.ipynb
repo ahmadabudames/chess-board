{
 "cells": [
  {
   "cell_type": "code",
   "execution_count": null,
   "source": [
    "print(\"ahmad\")"
   ],
   "outputs": [],
   "metadata": {}
  }
 ],
 "metadata": {
  "orig_nbformat": 4,
  "language_info": {
   "name": "python",
   "version": "3.9.6"
  },
  "kernelspec": {
   "name": "python3",
   "display_name": "Python 3.9.6 64-bit ('.venv': poetry)"
  },
  "interpreter": {
   "hash": "26717310bc2c56ae8901f050e6108819572bb51b6f685065f33229175859c6fe"
  }
 },
 "nbformat": 4,
 "nbformat_minor": 2
}